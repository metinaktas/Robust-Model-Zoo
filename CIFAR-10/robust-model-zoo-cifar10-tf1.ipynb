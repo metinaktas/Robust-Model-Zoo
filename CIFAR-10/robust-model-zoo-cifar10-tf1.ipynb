{
  "metadata": {
    "kernelspec": {
      "language": "python",
      "display_name": "Python 3",
      "name": "python3"
    },
    "language_info": {
      "name": "python",
      "version": "3.7.12",
      "mimetype": "text/x-python",
      "codemirror_mode": {
        "name": "ipython",
        "version": 3
      },
      "pygments_lexer": "ipython3",
      "nbconvert_exporter": "python",
      "file_extension": ".py"
    },
    "colab": {
      "name": "robust-model-zoo-cifar10-tf1.ipynb",
      "provenance": []
    },
    "accelerator": "GPU",
    "gpuClass": "standard"
  },
  "nbformat_minor": 0,
  "nbformat": 4,
  "cells": [
    {
      "cell_type": "markdown",
      "source": [
        "# Robust Model Zoo"
      ],
      "metadata": {
        "id": "pNB2R6kbCBOF"
      }
    },
    {
      "cell_type": "markdown",
      "source": [
        "[![Open In Colab](https://colab.research.google.com/assets/colab-badge.svg)](https://colab.research.google.com/github/metinaktas/Robust-Model-Zoo/blob/main/CIFAR-10/robust-model-zoo-cifar10-tf1.ipynb#scrollTo=ZvP3YCCTCH56)"
      ],
      "metadata": {
        "id": "ZvP3YCCTCH56"
      }
    },
    {
      "cell_type": "markdown",
      "source": [
        "This notebook is used to measure robustness accuracy of the model trained for CIFAR-10 dataset. We used [AutoAttack](https://github.com/fra31/auto-attack) repository for robustness measurement.\n"
      ],
      "metadata": {
        "id": "6u0Meo3qCBOI"
      }
    },
    {
      "cell_type": "markdown",
      "source": [
        "## Install packages"
      ],
      "metadata": {
        "id": "w_I-OJhdCBOI"
      }
    },
    {
      "cell_type": "code",
      "source": [
        "# Install gdown for google drive download\n",
        "! conda install -y gdown\n",
        "# Install AutoAttack\n",
        "! pip install git+https://github.com/fra31/auto-attack"
      ],
      "metadata": {
        "execution": {
          "iopub.status.busy": "2022-07-27T12:03:30.327401Z",
          "iopub.execute_input": "2022-07-27T12:03:30.327979Z",
          "iopub.status.idle": "2022-07-27T12:04:54.645667Z",
          "shell.execute_reply.started": "2022-07-27T12:03:30.327875Z",
          "shell.execute_reply": "2022-07-27T12:04:54.644504Z"
        },
        "trusted": true,
        "id": "nU7T3X7yCBOJ",
        "outputId": "9c910be6-6bb3-4f86-e91f-a83ff3771071",
        "colab": {
          "base_uri": "https://localhost:8080/"
        }
      },
      "execution_count": null,
      "outputs": [
        {
          "output_type": "stream",
          "name": "stdout",
          "text": [
            "/bin/bash: conda: command not found\n",
            "Looking in indexes: https://pypi.org/simple, https://us-python.pkg.dev/colab-wheels/public/simple/\n",
            "Collecting git+https://github.com/fra31/auto-attack\n",
            "  Cloning https://github.com/fra31/auto-attack to /tmp/pip-req-build-6784w4r4\n",
            "  Running command git clone -q https://github.com/fra31/auto-attack /tmp/pip-req-build-6784w4r4\n",
            "Building wheels for collected packages: autoattack\n",
            "  Building wheel for autoattack (setup.py) ... \u001b[?25l\u001b[?25hdone\n",
            "  Created wheel for autoattack: filename=autoattack-0.1-py3-none-any.whl size=34538 sha256=f26b4a321cdcc2b3e46cbe238c02dde849489cd4572bbed0349e513c1584da82\n",
            "  Stored in directory: /tmp/pip-ephem-wheel-cache-dsppxaah/wheels/a2/71/8b/ec4bb51ceac509961546bf5430b7cf433f93bd375ffa75ea45\n",
            "Successfully built autoattack\n",
            "Installing collected packages: autoattack\n",
            "Successfully installed autoattack-0.1\n"
          ]
        }
      ]
    },
    {
      "cell_type": "code",
      "source": [
        "import tensorflow as tf\n",
        "tf.compat.v1.disable_v2_behavior()\n",
        "import numpy as np\n",
        "import sys\n",
        "import os\n",
        "from pathlib import Path\n",
        "import tarfile\n",
        "import shutil\n",
        "import gdown"
      ],
      "metadata": {
        "execution": {
          "iopub.status.busy": "2022-07-27T12:04:54.647924Z",
          "iopub.execute_input": "2022-07-27T12:04:54.648307Z",
          "iopub.status.idle": "2022-07-27T12:04:58.848279Z",
          "shell.execute_reply.started": "2022-07-27T12:04:54.648269Z",
          "shell.execute_reply": "2022-07-27T12:04:58.847337Z"
        },
        "trusted": true,
        "id": "Q3E7FncPCBOK",
        "outputId": "ef0691d9-c49a-410e-8535-04ad028ffa53",
        "colab": {
          "base_uri": "https://localhost:8080/"
        }
      },
      "execution_count": null,
      "outputs": [
        {
          "output_type": "stream",
          "name": "stdout",
          "text": [
            "WARNING:tensorflow:From /usr/local/lib/python3.7/dist-packages/tensorflow/python/compat/v2_compat.py:107: disable_resource_variables (from tensorflow.python.ops.variable_scope) is deprecated and will be removed in a future version.\n",
            "Instructions for updating:\n",
            "non-resource variables are not supported in the long term\n"
          ]
        }
      ]
    },
    {
      "cell_type": "markdown",
      "source": [
        "# Download required files for evaluation"
      ],
      "metadata": {
        "id": "PqtyNTJTCBOK"
      }
    },
    {
      "cell_type": "markdown",
      "source": [
        "Create folder structures"
      ],
      "metadata": {
        "id": "GTwMxKcFCBOL"
      }
    },
    {
      "cell_type": "code",
      "source": [
        "base_folder = \"CIFAR-10\"\n",
        "dataset_folder = base_folder+\"/\"+\"Dataset\"\n",
        "model_folder = base_folder+\"/\"+\"Models/tf1\""
      ],
      "metadata": {
        "execution": {
          "iopub.status.busy": "2022-07-27T12:04:58.849540Z",
          "iopub.execute_input": "2022-07-27T12:04:58.852017Z",
          "iopub.status.idle": "2022-07-27T12:04:58.858132Z",
          "shell.execute_reply.started": "2022-07-27T12:04:58.851987Z",
          "shell.execute_reply": "2022-07-27T12:04:58.855676Z"
        },
        "trusted": true,
        "id": "KT-pMCi0CBOL"
      },
      "execution_count": null,
      "outputs": []
    },
    {
      "cell_type": "code",
      "source": [
        "if Path(base_folder).exists() == False:\n",
        "    os.makedirs(base_folder)\n",
        "if Path(dataset_folder).exists() == False:\n",
        "    os.makedirs(dataset_folder)\n",
        "if Path(model_folder).exists() == False:\n",
        "    os.makedirs(model_folder)\n",
        "if Path(\"./auto-attack\").exists() == False:\n",
        "    os.makedirs(\"./auto-attack\") "
      ],
      "metadata": {
        "execution": {
          "iopub.status.busy": "2022-07-27T12:04:58.861334Z",
          "iopub.execute_input": "2022-07-27T12:04:58.861822Z",
          "iopub.status.idle": "2022-07-27T12:04:58.869031Z",
          "shell.execute_reply.started": "2022-07-27T12:04:58.861778Z",
          "shell.execute_reply": "2022-07-27T12:04:58.868028Z"
        },
        "trusted": true,
        "id": "dE3TGcbsCBOM"
      },
      "execution_count": null,
      "outputs": []
    },
    {
      "cell_type": "code",
      "source": [
        "# model_1 in https://github.com/metinaktas/Robust-Model-Zoo/blob/main/CIFAR-10/Models/tf1/model_1/model.py\n",
        "#model_info = {'model':\"https://drive.google.com/uc?export=download&id=1CXqynYUS3E_BOfQ6LfBT4bxN2kbLBAAY\",'checkpoint':\"https://drive.google.com/uc?export=download&id=16PLzHqErmNdPHexlPfZ8ccxeIaqWOMTt\"}\n",
        "\n",
        "# model_2 in https://github.com/metinaktas/Robust-Model-Zoo/blob/main/CIFAR-10/Models/tf1/model_2/model.py\n",
        "model_info = {'model':\"https://drive.google.com/uc?export=download&id=1cXSbTcJ5_Bm3yfYlTrhfToRZEjQIkJ8S\",'checkpoint':\"https://drive.google.com/uc?export=download&id=1s76yDCBK86KN_cxjJM87i4qn897arAY_\"}"
      ],
      "metadata": {
        "id": "vQoTB7DqMd0b"
      },
      "execution_count": null,
      "outputs": []
    },
    {
      "cell_type": "markdown",
      "source": [
        "Download CIFAR-10 dataset"
      ],
      "metadata": {
        "id": "JGkmrf1jCBOM"
      }
    },
    {
      "cell_type": "code",
      "source": [
        "url = \"https://drive.google.com/uc?export=download&id=1lt7yhOVKEVydOupZ1taA3iNXC5Ety79i\"\n",
        "output = dataset_folder+'/dataset_cifar10.zip'\n",
        "gdown.download(url, output, quiet=False)\n",
        "shutil.unpack_archive(output, dataset_folder)\n",
        "os.remove(output)"
      ],
      "metadata": {
        "execution": {
          "iopub.status.busy": "2022-07-27T12:04:58.870276Z",
          "iopub.execute_input": "2022-07-27T12:04:58.871303Z",
          "iopub.status.idle": "2022-07-27T12:05:05.667725Z",
          "shell.execute_reply.started": "2022-07-27T12:04:58.871263Z",
          "shell.execute_reply": "2022-07-27T12:05:05.666594Z"
        },
        "trusted": true,
        "id": "dyjtaHzSCBON",
        "outputId": "c24354ef-363c-45bd-a351-630a5a12890a",
        "colab": {
          "base_uri": "https://localhost:8080/"
        }
      },
      "execution_count": null,
      "outputs": [
        {
          "output_type": "stream",
          "name": "stderr",
          "text": [
            "Downloading...\n",
            "From: https://drive.google.com/uc?export=download&id=1lt7yhOVKEVydOupZ1taA3iNXC5Ety79i\n",
            "To: /content/CIFAR-10/Dataset/dataset_cifar10.zip\n",
            "100%|██████████| 170M/170M [00:02<00:00, 77.6MB/s]\n"
          ]
        }
      ]
    },
    {
      "cell_type": "markdown",
      "source": [
        "Download trained model"
      ],
      "metadata": {
        "id": "kP0XkBvRCBON"
      }
    },
    {
      "cell_type": "code",
      "source": [
        "url = model_info['checkpoint']\n",
        "output = model_folder+'/checkpoint.zip'\n",
        "gdown.download(url, output, quiet=False)\n",
        "shutil.unpack_archive(output, model_folder)\n",
        "os.remove(output)"
      ],
      "metadata": {
        "execution": {
          "iopub.status.busy": "2022-07-27T12:05:05.669325Z",
          "iopub.execute_input": "2022-07-27T12:05:05.670081Z",
          "iopub.status.idle": "2022-07-27T12:05:07.931059Z",
          "shell.execute_reply.started": "2022-07-27T12:05:05.670047Z",
          "shell.execute_reply": "2022-07-27T12:05:07.930017Z"
        },
        "trusted": true,
        "id": "DG2BqFFNCBON",
        "outputId": "86dd4d39-c152-46ae-e2e3-a8be9236a790",
        "colab": {
          "base_uri": "https://localhost:8080/"
        }
      },
      "execution_count": null,
      "outputs": [
        {
          "output_type": "stream",
          "name": "stderr",
          "text": [
            "Downloading...\n",
            "From: https://drive.google.com/uc?export=download&id=16PLzHqErmNdPHexlPfZ8ccxeIaqWOMTt\n",
            "To: /content/CIFAR-10/Models/tf1/checkpoint.zip\n",
            "100%|██████████| 163M/163M [00:02<00:00, 65.9MB/s]\n"
          ]
        }
      ]
    },
    {
      "cell_type": "markdown",
      "source": [
        "Download code files"
      ],
      "metadata": {
        "id": "aKYAoA6xCBON"
      }
    },
    {
      "cell_type": "code",
      "source": [
        "# Download file for cifar-10 input reading\n",
        "url = \"https://drive.google.com/uc?export=download&id=1eOWDdFbPQ8sQJOg7ueuF-bXaL0ev-SK2\"\n",
        "output = base_folder+'/cifar10_input.py'\n",
        "gdown.download(url, output, quiet=False)    \n",
        "\n",
        "# Download file for TF1 model\n",
        "url = model_info['model']\n",
        "output = base_folder+'/model_submit.py'\n",
        "gdown.download(url, output, quiet=False)"
      ],
      "metadata": {
        "execution": {
          "iopub.status.busy": "2022-07-27T12:05:07.932472Z",
          "iopub.execute_input": "2022-07-27T12:05:07.933049Z",
          "iopub.status.idle": "2022-07-27T12:05:10.138631Z",
          "shell.execute_reply.started": "2022-07-27T12:05:07.933008Z",
          "shell.execute_reply": "2022-07-27T12:05:10.137560Z"
        },
        "trusted": true,
        "id": "Plf5DS99CBON",
        "outputId": "522e183d-c1ca-4150-a3b8-b4de8979560d",
        "colab": {
          "base_uri": "https://localhost:8080/",
          "height": 171
        }
      },
      "execution_count": null,
      "outputs": [
        {
          "output_type": "stream",
          "name": "stderr",
          "text": [
            "Downloading...\n",
            "From: https://drive.google.com/uc?export=download&id=1eOWDdFbPQ8sQJOg7ueuF-bXaL0ev-SK2\n",
            "To: /content/CIFAR-10/cifar10_input.py\n",
            "100%|██████████| 6.83k/6.83k [00:00<00:00, 1.18MB/s]\n",
            "Downloading...\n",
            "From: https://drive.google.com/uc?export=download&id=1CXqynYUS3E_BOfQ6LfBT4bxN2kbLBAAY\n",
            "To: /content/CIFAR-10/model_submit.py\n",
            "100%|██████████| 12.0k/12.0k [00:00<00:00, 21.9MB/s]\n"
          ]
        },
        {
          "output_type": "execute_result",
          "data": {
            "text/plain": [
              "'CIFAR-10/model_submit.py'"
            ],
            "application/vnd.google.colaboratory.intrinsic+json": {
              "type": "string"
            }
          },
          "metadata": {},
          "execution_count": 8
        }
      ]
    },
    {
      "cell_type": "markdown",
      "source": [
        "Download the AutoAttack clone (Commits on Jun 22, 2022)"
      ],
      "metadata": {
        "id": "pX-dFxaZCBOO"
      }
    },
    {
      "cell_type": "code",
      "source": [
        "url = \"https://drive.google.com/uc?export=download&id=1S7ivr2avGlK28Aw9fAbavDwaOejX2yt9\"\n",
        "output = \"./auto-attack\"+'/auto-attack-TF1.zip'\n",
        "gdown.download(url, output, quiet=False)\n",
        "shutil.unpack_archive(output, \"./auto-attack\")\n",
        "os.remove(output) "
      ],
      "metadata": {
        "execution": {
          "iopub.status.busy": "2022-07-27T12:05:10.140190Z",
          "iopub.execute_input": "2022-07-27T12:05:10.140674Z",
          "iopub.status.idle": "2022-07-27T12:05:11.520880Z",
          "shell.execute_reply.started": "2022-07-27T12:05:10.140635Z",
          "shell.execute_reply": "2022-07-27T12:05:11.519895Z"
        },
        "trusted": true,
        "id": "70GHzWbPCBOO",
        "outputId": "1bed4ccb-dc24-4146-a912-d8e9d5535bfe",
        "colab": {
          "base_uri": "https://localhost:8080/"
        }
      },
      "execution_count": null,
      "outputs": [
        {
          "output_type": "stream",
          "name": "stderr",
          "text": [
            "Downloading...\n",
            "From: https://drive.google.com/uc?export=download&id=1S7ivr2avGlK28Aw9fAbavDwaOejX2yt9\n",
            "To: /content/auto-attack/auto-attack-TF1.zip\n",
            "100%|██████████| 42.4M/42.4M [00:01<00:00, 26.4MB/s]\n"
          ]
        }
      ]
    },
    {
      "cell_type": "markdown",
      "source": [
        "# ROBUSTNESS TEST"
      ],
      "metadata": {
        "id": "xEIGfHl2CBOO"
      }
    },
    {
      "cell_type": "markdown",
      "source": [
        "Modify autoattack repository after installation to run TF1 codes on TF2 backend.\n",
        "\n",
        "Modifications on \"utils_tf.py\" are,\n",
        "* Line 17: self.grads[cl] = tf.gradients(self.logits[:, cl], self.x_input)[0] ==> self.grads[cl] = tf.compat.v1.gradients(self.logits[:, cl], self.x_input)[0]\n",
        "* Line 22: self.grad_xent = tf.gradients(self.xent, self.x_input)[0] ==> self.grad_xent = tf.compat.v1.gradients(self.xent, self.x_input)[0]\n",
        "* Line 26: self.grad_dlr = tf.gradients(self.dlr, self.x_input)[0] ==> self.grad_dlr = tf.compat.v1.gradients(self.dlr, self.x_input)[0]\n",
        "* Line 29: self.y_target = tf.placeholder(tf.int64, shape=[None]) ==> self.y_target = tf.compat.v1.placeholder(tf.int64, shape=[None])\n",
        "* Line 32: self.grad_target = tf.gradients(self.dlr_target, self.x_input)[0] ==> self.grad_target = tf.compat.v1.gradients(self.dlr_target, self.x_input)[0]\n",
        "* Line 33: self.la = tf.placeholder(tf.int64, shape=[None]) ==> self.la = tf.compat.v1.placeholder(tf.int64, shape=[None])\n",
        "* Line 34: self.la_target = tf.placeholder(tf.int64, shape=[None]) ==> self.la_target = tf.compat.v1.placeholder(tf.int64, shape=[None])\n",
        "* Line 40: self.grad_diff_logits = tf.gradients(self.diff_logits, self.x_input)[0] ==> self.grad_diff_logits = tf.compat.v1.gradients(self.diff_logits, self.x_input)[0]\n",
        "* Line 91: tf.contrib.framework.sort(x, axis=1) ==> x_sort = tf.sort(x, axis=1)\n",
        "* Line 99: tf.contrib.framework.sort(x, axis=1) ==> x_sort = tf.sort(x, axis=1)\n",
        "\n",
        "Modifications on \"autoattack.py\" are,\n",
        "* Line 91 and 92 are comment out since \"check_dynamic\" function in checks.py has not implemented to support TF1 codes. This is handled with 'the check for dynamic defenses is not currently supported' message, but model(x) function call in line 101 on checks.py is not handled for TF1 and gives error.\n",
        "\n",
        "The proposed model contains \"quantization\" blocks for realizing gradient masking. To evaluate the robustness of the proposed model fairly, we should take into account the existence of \"quantization\" blocks and help backpropagation to find gradients. The [AutoAttack flag_docs](https://github.com/fra31/auto-attack/blob/master/flags_doc.md) suggest to use [BPDA](http://proceedings.mlr.press/v80/athalye18a.html) method, which approximates such functions with differentiable counterparts. Since BPDA is not implemented in AutoAttack, we modify the attack codes to handle different models in feedforward and backpropagation phases. With these modifications, we can use original proposed model (with quantization blocks) in evalution and model without quantization blocks in computing gradients during adversarial example generation."
      ],
      "metadata": {
        "id": "sZC_FeBCCBOO"
      }
    },
    {
      "cell_type": "code",
      "source": [
        "!cp -r /content/auto-attack/auto-attack-TF1_Heterogeneous/autoattack/. /usr/local/lib/python3.7/dist-packages/autoattack/"
      ],
      "metadata": {
        "execution": {
          "iopub.status.busy": "2022-07-27T12:05:11.522606Z",
          "iopub.execute_input": "2022-07-27T12:05:11.522972Z",
          "iopub.status.idle": "2022-07-27T12:05:12.851699Z",
          "shell.execute_reply.started": "2022-07-27T12:05:11.522932Z",
          "shell.execute_reply": "2022-07-27T12:05:12.850434Z"
        },
        "trusted": true,
        "id": "VqyyQUdpCBOP"
      },
      "execution_count": null,
      "outputs": []
    },
    {
      "cell_type": "code",
      "source": [
        "sys.path.append(\"./CIFAR-10\")\n",
        "sys.path.append(\"./auto-attack/auto-attack-TF1/autoattack\")\n",
        "from model_submit import Model\n",
        "import cifar10_input\n",
        "import torch\n",
        "import torch.nn as nn\n",
        "import torchvision.datasets as datasets\n",
        "import torch.utils.data as data\n",
        "import torchvision.transforms as transforms\n",
        "from autoattack import AutoAttack, utils_tf"
      ],
      "metadata": {
        "execution": {
          "iopub.status.busy": "2022-07-27T12:05:12.855665Z",
          "iopub.execute_input": "2022-07-27T12:05:12.855993Z",
          "iopub.status.idle": "2022-07-27T12:05:14.863123Z",
          "shell.execute_reply.started": "2022-07-27T12:05:12.855964Z",
          "shell.execute_reply": "2022-07-27T12:05:14.861703Z"
        },
        "trusted": true,
        "id": "hSPC7NkNCBOP"
      },
      "execution_count": null,
      "outputs": []
    },
    {
      "cell_type": "code",
      "source": [
        "# Define adversarial attack\n",
        "num_examples = 1000\n",
        "batch_size = 100\n",
        "epsilon = 8/255.0\n",
        "\n",
        "# Get model\n",
        "x_input_place_holder = tf.compat.v1.placeholder(tf.float32,shape=[None, 32, 32, 3],name='x_input')\n",
        "y_input_place_holder = tf.compat.v1.placeholder(tf.int64, shape=None)\n",
        "model_quantize = Model(mode='eval',x_input=x_input_place_holder,y_input=y_input_place_holder,quantize_active=True)\n",
        "model_no_quantize = Model(mode='eval',x_input=x_input_place_holder,y_input=y_input_place_holder,quantize_active=False)\n",
        "saver = tf.compat.v1.train.Saver()\n",
        "\n",
        "# Dataset read functions\n",
        "cifar = cifar10_input.CIFAR10Data(dataset_folder)\n",
        "\n",
        "# load data\n",
        "testX = cifar.eval_data.xs[0:num_examples,:,:,:]/255.0\n",
        "testY = cifar.eval_data.ys[0:num_examples]\n",
        "\n",
        "# convert to pytorch format\n",
        "torch_testX = torch.from_numpy( np.transpose(testX, (0, 3, 1, 2)) ).float().cuda()\n",
        "torch_testY = torch.from_numpy( testY ).cuda()\n",
        "\n",
        "# load model from saved weights\n",
        "gpu_options = tf.compat.v1.GPUOptions(allow_growth=True)\n",
        "sess = tf.compat.v1.Session(config=tf.compat.v1.ConfigProto(gpu_options=gpu_options))\n",
        "# Restore the model\n",
        "model_checkpoint = tf.train.latest_checkpoint(model_folder)\n",
        "saver.restore(sess, model_checkpoint)\n",
        "\n",
        "model_adapted = utils_tf.ModelAdapter(model_quantize.pre_softmax, model_quantize.x_input, model_quantize.y_input, sess)\n",
        "model_back_adapted = utils_tf.ModelAdapter(model_no_quantize.pre_softmax, model_no_quantize.x_input, model_no_quantize.y_input, sess)\n",
        "\n",
        "# run plus attack\n",
        "print(\"******** RUN PLUS ATTACK *******\")\n",
        "adversary = AutoAttack(model_back_adapted,model_adapted, norm='Linf', eps=epsilon, version='plus', is_tf_model=True,verbose=True)\n",
        "x_adv = adversary.run_standard_evaluation(torch_testX, torch_testY, bs=batch_size)\n"
      ],
      "metadata": {
        "execution": {
          "iopub.status.busy": "2022-07-27T12:05:14.885546Z",
          "iopub.execute_input": "2022-07-27T12:05:14.887511Z"
        },
        "trusted": true,
        "id": "nbUGl0stCBOP",
        "outputId": "3afed73c-fb94-433f-882b-c1a7ab11f812",
        "colab": {
          "base_uri": "https://localhost:8080/"
        }
      },
      "execution_count": null,
      "outputs": [
        {
          "output_type": "stream",
          "name": "stdout",
          "text": [
            "WARNING:tensorflow:From ./CIFAR-10/model_submit.py:157: calling Constant.__init__ (from tensorflow.python.ops.init_ops) with dtype is deprecated and will be removed in a future version.\n",
            "Instructions for updating:\n",
            "Call initializer instance with the dtype argument instead of passing it to the constructor\n",
            "INFO:tensorflow:Restoring parameters from CIFAR-10/Models/tf1/checkpoint-0\n",
            "******** RUN PLUS ATTACK *******\n",
            "setting parameters for plus version\n",
            "using plus version including apgd-ce, apgd-dlr, fab, square, apgd-t, fab-t\n",
            "initial accuracy: 77.70%\n",
            "apgd-ce - 1/8 - 15 out of 100 successfully perturbed\n",
            "apgd-ce - 2/8 - 10 out of 100 successfully perturbed\n",
            "apgd-ce - 3/8 - 16 out of 100 successfully perturbed\n",
            "apgd-ce - 4/8 - 15 out of 100 successfully perturbed\n",
            "apgd-ce - 5/8 - 6 out of 100 successfully perturbed\n",
            "apgd-ce - 6/8 - 15 out of 100 successfully perturbed\n",
            "apgd-ce - 7/8 - 11 out of 100 successfully perturbed\n",
            "apgd-ce - 8/8 - 8 out of 77 successfully perturbed\n",
            "robust accuracy after APGD-CE: 68.10% (total time 1637.1 s)\n",
            "apgd-dlr - 1/7 - 11 out of 100 successfully perturbed\n",
            "apgd-dlr - 2/7 - 6 out of 100 successfully perturbed\n",
            "apgd-dlr - 3/7 - 9 out of 100 successfully perturbed\n",
            "apgd-dlr - 4/7 - 4 out of 100 successfully perturbed\n",
            "apgd-dlr - 5/7 - 8 out of 100 successfully perturbed\n",
            "apgd-dlr - 6/7 - 8 out of 100 successfully perturbed\n",
            "apgd-dlr - 7/7 - 8 out of 81 successfully perturbed\n",
            "robust accuracy after APGD-DLR: 62.70% (total time 3055.5 s)\n",
            "fab - 1/7 - 0 out of 100 successfully perturbed\n",
            "fab - 2/7 - 3 out of 100 successfully perturbed\n",
            "fab - 3/7 - 2 out of 100 successfully perturbed\n",
            "fab - 4/7 - 4 out of 100 successfully perturbed\n",
            "fab - 5/7 - 5 out of 100 successfully perturbed\n",
            "fab - 6/7 - 1 out of 100 successfully perturbed\n",
            "fab - 7/7 - 0 out of 27 successfully perturbed\n",
            "robust accuracy after FAB: 61.20% (total time 7856.3 s)\n",
            "square - 1/7 - 7 out of 100 successfully perturbed\n",
            "square - 2/7 - 5 out of 100 successfully perturbed\n",
            "square - 3/7 - 10 out of 100 successfully perturbed\n",
            "square - 4/7 - 9 out of 100 successfully perturbed\n",
            "square - 5/7 - 6 out of 100 successfully perturbed\n",
            "square - 6/7 - 2 out of 100 successfully perturbed\n",
            "square - 7/7 - 2 out of 12 successfully perturbed\n",
            "robust accuracy after SQUARE: 57.10% (total time 9822.8 s)\n",
            "apgd-t - 1/6 - 8 out of 100 successfully perturbed\n",
            "apgd-t - 2/6 - 4 out of 100 successfully perturbed\n",
            "apgd-t - 3/6 - 7 out of 100 successfully perturbed\n",
            "apgd-t - 4/6 - 3 out of 100 successfully perturbed\n",
            "apgd-t - 5/6 - 6 out of 100 successfully perturbed\n",
            "apgd-t - 6/6 - 8 out of 71 successfully perturbed\n",
            "robust accuracy after APGD-T: 53.50% (total time 12169.6 s)\n",
            "fab-t - 1/6 - 2 out of 100 successfully perturbed\n",
            "fab-t - 2/6 - 2 out of 100 successfully perturbed\n"
          ]
        }
      ]
    }
  ]
}